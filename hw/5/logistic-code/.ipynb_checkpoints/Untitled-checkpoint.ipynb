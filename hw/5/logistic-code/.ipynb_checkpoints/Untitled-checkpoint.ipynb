{
 "cells": [
  {
   "cell_type": "code",
   "execution_count": 102,
   "metadata": {},
   "outputs": [],
   "source": [
    "import numpy as np\n",
    "import pandas as pd\n",
    "from sklearn.preprocessing import StandardScaler\n",
    "import matplotlib.pyplot as plt\n",
    "from sklearn.linear_model import LogisticRegression\n",
    "from sklearn.calibration import calibration_curve"
   ]
  },
  {
   "cell_type": "code",
   "execution_count": 103,
   "metadata": {},
   "outputs": [],
   "source": [
    "from logreg_skeleton import fit_logistic_reg, f_objective"
   ]
  },
  {
   "cell_type": "markdown",
   "metadata": {},
   "source": [
    "## 3.3 Regularized Logistic Regression {}"
   ]
  },
  {
   "cell_type": "markdown",
   "metadata": {},
   "source": [
    "### 3.3.2 {}\n",
    "Complete the f_objective function"
   ]
  },
  {
   "cell_type": "code",
   "execution_count": 101,
   "metadata": {},
   "outputs": [],
   "source": [
    "def f_objective(theta, X, y, l2_param=1):\n",
    "    '''\n",
    "    Args:\n",
    "        theta: 1D numpy array of size num_features\n",
    "        X: 2D numpy array of size (num_instances, num_features)\n",
    "        y: 1D numpy array of size num_instances\n",
    "        l2_param: regularization parameter\n",
    "\n",
    "    Returns:\n",
    "        objective: scalar value of objective function\n",
    "    '''\n",
    "    n = len(y)\n",
    "    pred = X@theta\n",
    "    margin = -y*pred\n",
    "    log_loss = np.logaddexp(0, margin).sum()\n",
    "    reg = l2_param*(theta@theta)\n",
    "    return log_loss/n + reg"
   ]
  },
  {
   "cell_type": "markdown",
   "metadata": {},
   "source": [
    "\\newpage"
   ]
  },
  {
   "cell_type": "markdown",
   "metadata": {},
   "source": [
    "### 3.3.3 {}\n",
    "Complete the fit_logistic_reg function and use it to train a model on the procided data."
   ]
  },
  {
   "cell_type": "code",
   "execution_count": 19,
   "metadata": {},
   "outputs": [],
   "source": [
    "def fit_logistic_reg(X, y, objective_function, l2_param=1):\n",
    "    '''\n",
    "    Args:\n",
    "        X: 2D numpy array of size (num_instances, num_features)\n",
    "        y: 1D numpy array of size num_instances\n",
    "        objective_function: function returning the value of the objective\n",
    "        l2_param: regularization parameter\n",
    "        \n",
    "    Returns:\n",
    "        optimal_theta: 1D numpy array of size num_features\n",
    "    '''\n",
    "    objective_function = partial(objective_function, X=X, y=y, l2_param=l2_param)\n",
    "    \n",
    "    n_features = X.shape[1]\n",
    "    theta_0 = np.zeros(n_features)\n",
    "    theta = minimize(objective_function, theta_0).x\n",
    "    return theta"
   ]
  },
  {
   "cell_type": "code",
   "execution_count": 104,
   "metadata": {},
   "outputs": [],
   "source": [
    "# Load the data\n",
    "x_train = np.loadtxt('X_train.txt', delimiter=',')\n",
    "x_val = np.loadtxt('X_val.txt', delimiter=',')\n",
    "y_train = np.loadtxt('y_train.txt', delimiter=',')\n",
    "y_val = np.loadtxt('y_val.txt', delimiter=',')"
   ]
  },
  {
   "cell_type": "code",
   "execution_count": 105,
   "metadata": {},
   "outputs": [],
   "source": [
    "# Standardize data\n",
    "ss = StandardScaler()\n",
    "x_train = ss.fit_transform(x_train)\n",
    "x_val = ss.transform(x_val)\n",
    "y_train[y_train==0] = -1\n",
    "y_val[y_val==0] = -1"
   ]
  },
  {
   "cell_type": "code",
   "execution_count": 106,
   "metadata": {},
   "outputs": [],
   "source": [
    "# Add bias term\n",
    "x_train = np.append(10*np.ones((len(x_train),1)), x_train, axis=1)\n",
    "x_val = np.append(10*np.ones((len(x_val),1)), x_val, axis=1)"
   ]
  },
  {
   "cell_type": "code",
   "execution_count": 107,
   "metadata": {},
   "outputs": [],
   "source": [
    "# Train model\n",
    "theta = fit_logistic_reg(x_train, y_train, f_objective)"
   ]
  },
  {
   "cell_type": "code",
   "execution_count": 108,
   "metadata": {},
   "outputs": [
    {
     "data": {
      "text/plain": [
       "array([ 0.00236204,  0.00095657, -0.00030132,  0.00302058,  0.10533832,\n",
       "       -0.00358714, -0.00135921, -0.00385466, -0.00079028, -0.0011443 ,\n",
       "       -0.07179551,  0.00655072, -0.004512  ,  0.01125831, -0.003866  ,\n",
       "       -0.00271356,  0.00150264, -0.00278385, -0.00919238, -0.00682348,\n",
       "       -0.01027393])"
      ]
     },
     "execution_count": 108,
     "metadata": {},
     "output_type": "execute_result"
    }
   ],
   "source": [
    "theta"
   ]
  },
  {
   "cell_type": "markdown",
   "metadata": {},
   "source": [
    "\\newpage"
   ]
  },
  {
   "cell_type": "markdown",
   "metadata": {},
   "source": [
    "### 3.3.4 {}\n",
    "Find the l2 regulrization term that minimizes the log-likelihood on the validation set. Plot the log-likelihood for different values."
   ]
  },
  {
   "cell_type": "code",
   "execution_count": 113,
   "metadata": {},
   "outputs": [],
   "source": [
    "def NLL(x, y, theta):\n",
    "    margin = -y * (x@theta)\n",
    "    return np.logaddexp(0, margin).sum()"
   ]
  },
  {
   "cell_type": "code",
   "execution_count": 122,
   "metadata": {},
   "outputs": [],
   "source": [
    "nlls = []\n",
    "l2s = np.logspace(-5, -1, 40)\n",
    "for l2 in l2s:\n",
    "    theta = fit_logistic_reg(x_train, y_train, f_objective, l2)\n",
    "    nlls.append(NLL(x_val, y_val, theta))"
   ]
  },
  {
   "cell_type": "code",
   "execution_count": 123,
   "metadata": {},
   "outputs": [
    {
     "data": {
      "text/plain": [
       "Text(0, 0.5, 'NLL')"
      ]
     },
     "execution_count": 123,
     "metadata": {},
     "output_type": "execute_result"
    },
    {
     "data": {
      "image/png": "[encoded data removed]",
      "text/plain": [
       "<Figure size 432x288 with 1 Axes>"
      ]
     },
     "metadata": {
      "needs_background": "light"
     },
     "output_type": "display_data"
    }
   ],
   "source": [
    "plt.plot(l2s, nlls)\n",
    "plt.xscale('log')\n",
    "plt.xlabel('l2 Regularization')\n",
    "plt.ylabel('NLL')"
   ]
  },
  {
   "cell_type": "markdown",
   "metadata": {},
   "source": [
    "Based on this, I'll choose 0.011 as my l2 reg"
   ]
  },
  {
   "cell_type": "markdown",
   "metadata": {},
   "source": [
    "\\newpage"
   ]
  },
  {
   "cell_type": "markdown",
   "metadata": {},
   "source": [
    "### 3.3.5 {}\n",
    "Calibration plot"
   ]
  },
  {
   "cell_type": "code",
   "execution_count": 124,
   "metadata": {},
   "outputs": [],
   "source": [
    "def sigmoid(x):\n",
    "  return 1/(1+np.exp(-x))"
   ]
  },
  {
   "cell_type": "code",
   "execution_count": 125,
   "metadata": {},
   "outputs": [],
   "source": [
    "theta = fit_logistic_reg(x_train, y_train, f_objective, 0.011)\n",
    "y_pred = sigmoid(x_val@theta)"
   ]
  },
  {
   "cell_type": "code",
   "execution_count": 141,
   "metadata": {},
   "outputs": [],
   "source": [
    "fraction_of_positives, mean_predicted_value = calibration_curve(y_val, y_pred, n_bins=10)"
   ]
  },
  {
   "cell_type": "code",
   "execution_count": 143,
   "metadata": {},
   "outputs": [
    {
     "data": {
      "text/plain": [
       "Text(0, 0.5, 'fraction_of_positives')"
      ]
     },
     "execution_count": 143,
     "metadata": {},
     "output_type": "execute_result"
    },
    {
     "data": {
      "image/png": "[encoded data removed]",
      "text/plain": [
       "<Figure size 432x288 with 1 Axes>"
      ]
     },
     "metadata": {
      "needs_background": "light"
     },
     "output_type": "display_data"
    }
   ],
   "source": [
    "plt.plot(mean_predicted_value, fraction_of_positives)\n",
    "plt.xlabel('mean_predicted_value')\n",
    "plt.ylabel('fraction_of_positives')"
   ]
  },
  {
   "cell_type": "code",
   "execution_count": null,
   "metadata": {},
   "outputs": [],
   "source": []
  }
 ],
 "metadata": {
  "kernelspec": {
   "display_name": "Python [conda env:ml]",
   "language": "python",
   "name": "conda-env-ml-py"
  },
  "language_info": {
   "codemirror_mode": {
    "name": "ipython",
    "version": 3
   },
   "file_extension": ".py",
   "mimetype": "text/x-python",
   "name": "python",
   "nbconvert_exporter": "python",
   "pygments_lexer": "ipython3",
   "version": "3.6.8"
  }
 },
 "nbformat": 4,
 "nbformat_minor": 2
}
